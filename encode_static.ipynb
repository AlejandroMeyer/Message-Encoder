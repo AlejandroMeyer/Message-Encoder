{
 "cells": [
  {
   "cell_type": "code",
   "execution_count": 1,
   "metadata": {},
   "outputs": [
    {
     "name": "stdout",
     "output_type": "stream",
     "text": [
      "New key generated and saved.\n",
      "\n",
      "Encrypted message: OvHn S, c)BG ' T;lÚ\n",
      "Used key: .oz.VKáP}Yjn$'$A}}#\n"
     ]
    }
   ],
   "source": [
    "import random\n",
    "\n",
    "ALPHABET = \"abcdefghijklmnopqrstuvwxyzABCDEFGHIJKLMNOPQRSTUVWXYZ0123456789'!#$%&/()=?¿áéíóúÁÉÍÓÚüÜ[]{}´.,;-_\"\n",
    "\n",
    "def generate_key(message, alphabet):\n",
    "    \"\"\"\n",
    "    Generates a random key to encrypt and decrypt messages.\n",
    "    \"\"\"\n",
    "    key = ''.join(random.choice(alphabet) for _ in range(len(message)))\n",
    "    return key\n",
    "\n",
    "def save_key(key, filename=\"key.txt\"):\n",
    "    \"\"\"\n",
    "    Saves the key to a file.\n",
    "    \"\"\"\n",
    "    with open(filename, \"w\") as file:\n",
    "        file.write(key)\n",
    "\n",
    "def load_key(filename=\"key.txt\"):\n",
    "    \"\"\"\n",
    "    Loads the key from a file.\n",
    "    \"\"\"\n",
    "    try:\n",
    "        with open(filename, \"r\") as file:\n",
    "            return file.read().strip()\n",
    "    except FileNotFoundError:\n",
    "        return None  # If no key file exists, return None\n",
    "\n",
    "# User input for the message\n",
    "original_message = input(\"Enter the message to encrypt: \")\n",
    "\n",
    "# Check if the key file exists\n",
    "key = load_key()\n",
    "\n",
    "if key is None:\n",
    "    # If the key doesn't exist, generate a new one and save it\n",
    "    key = generate_key(original_message, ALPHABET)\n",
    "    save_key(key)\n",
    "    print(\"New key generated and saved.\")\n",
    "else:\n",
    "    print(\"Using existing key.\")\n",
    "\n",
    "# Encrypt the message\n",
    "def encrypt_message(message, key, alphabet):\n",
    "    encrypted_message = ''\n",
    "    for i, char in enumerate(message):\n",
    "        if char in alphabet and key[i] in alphabet:\n",
    "            index = (alphabet.index(char) + alphabet.index(key[i])) % len(alphabet)\n",
    "            encrypted_message += alphabet[index]\n",
    "        else:\n",
    "            encrypted_message += char  # Preserve characters not present in the alphabet\n",
    "    return encrypted_message\n",
    "\n",
    "encrypted_message = encrypt_message(original_message, key, ALPHABET)\n",
    "print(\"\\nEncrypted message:\", encrypted_message)\n",
    "print(\"Used key:\", key)\n"
   ]
  }
 ],
 "metadata": {
  "kernelspec": {
   "display_name": "Python 3",
   "language": "python",
   "name": "python3"
  },
  "language_info": {
   "codemirror_mode": {
    "name": "ipython",
    "version": 3
   },
   "file_extension": ".py",
   "mimetype": "text/x-python",
   "name": "python",
   "nbconvert_exporter": "python",
   "pygments_lexer": "ipython3",
   "version": "3.11.9"
  }
 },
 "nbformat": 4,
 "nbformat_minor": 2
}
