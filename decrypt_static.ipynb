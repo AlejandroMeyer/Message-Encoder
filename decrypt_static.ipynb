{
 "cells": [
  {
   "cell_type": "code",
   "execution_count": 1,
   "metadata": {},
   "outputs": [
    {
     "name": "stdout",
     "output_type": "stream",
     "text": [
      "\n",
      "Decrypted message: This is just a test\n"
     ]
    }
   ],
   "source": [
    "import random\n",
    "\n",
    "ALPHABET = \"abcdefghijklmnopqrstuvwxyzABCDEFGHIJKLMNOPQRSTUVWXYZ0123456789'!#$%&/()=?¿áéíóúÁÉÍÓÚüÜ[]{}´.,;-_\"\n",
    "\n",
    "def load_key(filename=\"key.txt\"):\n",
    "    \"\"\"\n",
    "    Loads the key from a file.\n",
    "    \"\"\"\n",
    "    try:\n",
    "        with open(filename, \"r\") as file:\n",
    "            return file.read().strip()\n",
    "    except FileNotFoundError:\n",
    "        return None  # If no key file exists, return None\n",
    "\n",
    "def decrypt_message(encrypted_message, key, alphabet):\n",
    "    \"\"\"\n",
    "    Decrypts an encrypted message using a key.\n",
    "    \"\"\"\n",
    "    decrypted_message = ''\n",
    "    for i, char in enumerate(encrypted_message):\n",
    "        if char in alphabet and key[i] in alphabet:\n",
    "            index = (alphabet.index(char) - alphabet.index(key[i])) % len(alphabet)\n",
    "            decrypted_message += alphabet[index]\n",
    "        else:\n",
    "            decrypted_message += char  # Preserve characters not present in the alphabet\n",
    "    return decrypted_message\n",
    "\n",
    "# User input for the encrypted message and key\n",
    "encrypted_message = input('Enter the message to decrypt: ')\n",
    "\n",
    "# Load the key from the file\n",
    "key = load_key()\n",
    "\n",
    "if key is None:\n",
    "    print(\"No key found! Please ensure a key exists or generate one first.\")\n",
    "else:\n",
    "    # Decrypt the message\n",
    "    decrypted_message = decrypt_message(encrypted_message, key, ALPHABET)\n",
    "    print(\"\\nDecrypted message:\", decrypted_message)\n"
   ]
  }
 ],
 "metadata": {
  "kernelspec": {
   "display_name": "Python 3",
   "language": "python",
   "name": "python3"
  },
  "language_info": {
   "codemirror_mode": {
    "name": "ipython",
    "version": 3
   },
   "file_extension": ".py",
   "mimetype": "text/x-python",
   "name": "python",
   "nbconvert_exporter": "python",
   "pygments_lexer": "ipython3",
   "version": "3.11.9"
  }
 },
 "nbformat": 4,
 "nbformat_minor": 2
}
